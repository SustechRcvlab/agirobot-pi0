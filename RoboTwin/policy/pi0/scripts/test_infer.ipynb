{
 "cells": [
  {
   "cell_type": "code",
   "execution_count": null,
   "id": "a4933fd3",
   "metadata": {},
   "outputs": [],
   "source": [
    "from openpi.training import config\n",
    "from openpi.policies import policy_config\n",
    "from openpi.shared import download\n",
    "\n",
    "config = config.get_config(\"pi0_base_agibot_lora\")\n",
    "checkpoint_dir = download.maybe_download(\"gs://openpi-assets/checkpoints/pi0_base\")\n",
    "\n",
    "# Create a trained policy.\n",
    "policy = policy_config.create_trained_policy(config, checkpoint_dir)\n",
    "\n",
    "# Run inference on a dummy example.\n",
    "example = {\n",
    "    \"observation/exterior_image_1_left\": ...,\n",
    "    \"observation/wrist_image_left\": ...,\n",
    "    \"prompt\": \"pick up the fork\"\n",
    "}\n",
    "action_chunk = policy.infer(example)[\"actions\"]"
   ]
  }
 ],
 "metadata": {
  "kernelspec": {
   "display_name": "Python 3 (ipykernel)",
   "language": "python",
   "name": "python3"
  }
 },
 "nbformat": 4,
 "nbformat_minor": 5
}
